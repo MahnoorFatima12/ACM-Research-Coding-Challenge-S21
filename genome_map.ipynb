{
 "cells": [
  {
   "cell_type": "code",
   "execution_count": null,
   "metadata": {},
   "outputs": [],
   "source": [
    "## Install the required libraries\n",
    "\n",
    "# !pip install biopython\n",
    "# !pip install reportlab\n",
    "\n",
    "\n",
    "from Bio import SeqIO\n",
    "\n",
    "from Bio.SeqFeature import SeqFeature, FeatureLocation"
   ]
  },
  {
   "cell_type": "code",
   "execution_count": null,
   "metadata": {},
   "outputs": [],
   "source": [
    "## reading the genbank file\n",
    "\n",
    "gb_file = \"Genome.gb\"\n",
    "for gb_record in SeqIO.parse(open(gb_file,\"r\"), \"genbank\"):\n",
    "    print(f\"Total Features: {len(gb_record.features)}\")"
   ]
  },
  {
   "cell_type": "markdown",
   "metadata": {},
   "source": [
    "## Exploratry Analysis"
   ]
  },
  {
   "cell_type": "code",
   "execution_count": null,
   "metadata": {},
   "outputs": [],
   "source": [
    "# print last feature\n",
    "print(gb_record.features[10])"
   ]
  },
  {
   "cell_type": "markdown",
   "metadata": {},
   "source": [
    "I am going to draw a whole genome from a SeqRecord object read in from a GenBank file"
   ]
  },
  {
   "cell_type": "code",
   "execution_count": null,
   "metadata": {},
   "outputs": [],
   "source": [
    "# importing necessary libraries for\n",
    "# Visualization and graphs\n",
    "from reportlab.lib import colors\n",
    "from reportlab.lib.units import cm\n",
    "from Bio.Graphics import GenomeDiagram\n",
    "from Bio import SeqIO\n",
    "# reading the file again for graph\n",
    "record = SeqIO.read(\"Genome.gb\", \"genbank\")"
   ]
  },
  {
   "cell_type": "markdown",
   "metadata": {},
   "source": [
    "## Top down approach"
   ]
  },
  {
   "cell_type": "code",
   "execution_count": null,
   "metadata": {},
   "outputs": [],
   "source": [
    "## I am using a top down approach so after loading in our sequence we next create an empty diagram, \n",
    "## then add an (empty) track, and to that add an (empty) feature set\n",
    "gd_diagram = GenomeDiagram.Diagram(\"Genome analysis\")\n",
    "gd_track_for_features = gd_diagram.new_track(1, name=\"Annotated Features\")\n",
    "gd_feature_set = gd_track_for_features.new_set()"
   ]
  },
  {
   "cell_type": "code",
   "execution_count": null,
   "metadata": {},
   "outputs": [],
   "source": [
    "## I take each gene SeqFeature object in our SeqRecord, and use it to generate a feature on the diagram. \n",
    "## I am going to color them blue, alternating between a dark blue and a light blue.\n",
    "\n",
    "for feature in record.features:\n",
    "    if feature.type != \"gene\":\n",
    "        #Exclude this feature\n",
    "        continue\n",
    "    if len(gd_feature_set) % 2 == 0:\n",
    "        color = colors.blue\n",
    "    else:\n",
    "        color = colors.lightblue\n",
    "    gd_feature_set.add_feature(feature, color=color, label=True)"
   ]
  },
  {
   "cell_type": "code",
   "execution_count": null,
   "metadata": {},
   "outputs": [],
   "source": [
    "## drawing a circular genome map and output it as a PNG file\n",
    "\n",
    "## Now i come to actually making the output file. \n",
    "## This happens in two steps, first we call the draw method, which creates all the shapes using ReportLab objects. \n",
    "\n",
    "## Then we call the write method which renders these to the requested file format. \n",
    "\n",
    "gd_diagram.draw(format=\"circular\", circular=True, pagesize=(20*cm,20*cm),\n",
    "                start=0, end=len(record), circle_core=0.7)\n",
    "gd_diagram.write(\"genome circular.png\", \"PNG\")\n",
    "# saved in the folder"
   ]
  },
  {
   "cell_type": "markdown",
   "metadata": {},
   "source": [
    "## Bonus"
   ]
  },
  {
   "cell_type": "code",
   "execution_count": null,
   "metadata": {},
   "outputs": [],
   "source": [
    "## This time we’ll use arrows for the genes, \n",
    "#  and overlay them with strand-less features (as plain boxes) showing the position of some restriction digest sites.\n",
    "\n",
    "for feature in record.features:\n",
    "    if feature.type != \"gene\":\n",
    "        #Exclude this feature\n",
    "        continue\n",
    "    if len(gd_feature_set) % 2 == 0:\n",
    "        color = colors.blue\n",
    "    else:\n",
    "        color = colors.lightblue\n",
    "    gd_feature_set.add_feature(feature, sigil=\"ARROW\",\n",
    "                               color=color, label=True,\n",
    "                               label_size = 14, label_angle=0)"
   ]
  },
  {
   "cell_type": "code",
   "execution_count": null,
   "metadata": {},
   "outputs": [],
   "source": [
    "#I want to include some strandless features, so for an example\n",
    "#will use EcoRI recognition sites etc.\n",
    "\n",
    "for site, name, color in [(\"GAATTC\",\"EcoRI\",colors.green),\n",
    "                          (\"CCCGGG\",\"SmaI\",colors.orange),\n",
    "                          (\"AAGCTT\",\"HindIII\",colors.red),\n",
    "                          (\"GGATCC\",\"BamHI\",colors.purple)]:\n",
    "    index = 0\n",
    "    while True:\n",
    "        index  = record.seq.find(site, start=index)\n",
    "        if index == -1 : break\n",
    "        feature = SeqFeature(FeatureLocation(index, index+len(site)))\n",
    "        gd_feature_set.add_feature(feature, color=color, name=name,\n",
    "                                   label=True, label_size = 10,\n",
    "                                   label_color=color)\n",
    "        index += len(site)"
   ]
  },
  {
   "cell_type": "code",
   "execution_count": null,
   "metadata": {},
   "outputs": [],
   "source": [
    "gd_diagram.draw(format=\"circular\", circular=True, pagesize=(20*cm,20*cm),\n",
    "                start=0, end=len(record), circle_core = 0.5)\n",
    "gd_diagram.write(\"genome circular nice.png\", \"PNG\")"
   ]
  },
  {
   "cell_type": "code",
   "execution_count": null,
   "metadata": {},
   "outputs": [],
   "source": []
  }
 ],
 "metadata": {
  "kernelspec": {
   "display_name": "Python 3",
   "language": "python",
   "name": "python3"
  },
  "language_info": {
   "codemirror_mode": {
    "name": "ipython",
    "version": 3
   },
   "file_extension": ".py",
   "mimetype": "text/x-python",
   "name": "python",
   "nbconvert_exporter": "python",
   "pygments_lexer": "ipython3",
   "version": "3.8.3"
  }
 },
 "nbformat": 4,
 "nbformat_minor": 4
}
